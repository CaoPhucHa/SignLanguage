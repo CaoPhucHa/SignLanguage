{
 "cells": [
  {
   "cell_type": "code",
   "execution_count": 5,
   "id": "5719be83",
   "metadata": {},
   "outputs": [],
   "source": [
    "import cv2\n",
    "import os\n",
    "import uuid\n",
    "import time"
   ]
  },
  {
   "cell_type": "code",
   "execution_count": 6,
   "id": "31395658",
   "metadata": {},
   "outputs": [],
   "source": [
    "path_images = \"Tensorflow\\workspace\\images\\collectedimages\""
   ]
  },
  {
   "cell_type": "code",
   "execution_count": 7,
   "id": "6a8e5ceb",
   "metadata": {},
   "outputs": [],
   "source": [
    "labels = [\"anhon\", \"thanks\",\"iluvu\"]\n",
    "number_imgs = 15 ## so lluong hinh anh thu thap"
   ]
  },
  {
   "cell_type": "code",
   "execution_count": 8,
   "id": "1d567d5a",
   "metadata": {},
   "outputs": [
    {
     "name": "stdout",
     "output_type": "stream",
     "text": [
      "Collecting images for anhon\n",
      "Collecting images for thanks\n",
      "Collecting images for iluvu\n"
     ]
    }
   ],
   "source": [
    "for label in labels:\n",
    "    ##tao dir toi cho label\n",
    "    !mkdir {'Tensorflow\\workspace\\images\\collectedimages\\\\'+label}\n",
    "    cap = cv2.VideoCapture(0)\n",
    "    print(\"Collecting images for {}\".format(label))\n",
    "    time.sleep(5)\n",
    "    for imgnum in range(number_imgs):\n",
    "        ret, frame = cap.read()\n",
    "        imgname= os.path.join(path_images, label, label+'.'+'{}.jpg'.format(str(uuid.uuid1())))\n",
    "        cv2.imwrite(imgname, frame)\n",
    "        cv2.imshow('frame', frame)\n",
    "        time.sleep(2)\n",
    "        \n",
    "        if cv2.waitKey(1) & 0xFF == ord('q'):\n",
    "            break\n",
    "    cap.release()\n",
    "        "
   ]
  },
  {
   "cell_type": "code",
   "execution_count": null,
   "id": "5347453e",
   "metadata": {},
   "outputs": [],
   "source": []
  }
 ],
 "metadata": {
  "kernelspec": {
   "display_name": "Python 3 (ipykernel)",
   "language": "python",
   "name": "python3"
  },
  "language_info": {
   "codemirror_mode": {
    "name": "ipython",
    "version": 3
   },
   "file_extension": ".py",
   "mimetype": "text/x-python",
   "name": "python",
   "nbconvert_exporter": "python",
   "pygments_lexer": "ipython3",
   "version": "3.11.5"
  }
 },
 "nbformat": 4,
 "nbformat_minor": 5
}
